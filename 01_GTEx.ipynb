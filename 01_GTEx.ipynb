{
 "cells": [
  {
   "cell_type": "markdown",
   "metadata": {},
   "source": [
    "# GTEx v8 - Download and Basic library preparation\n",
    "\n",
    "Downloads the files.  Shows data and some plot"
   ]
  },
  {
   "cell_type": "code",
   "execution_count": null,
   "metadata": {},
   "outputs": [],
   "source": [
    "# Graphing library imports\n",
    "\n",
    "import os, sys, glob\n",
    "\n",
    "import inspect, urllib\n",
    "\n",
    "import pandas\n",
    "import scipy\n",
    "import numpy as np\n",
    "from pprint import pprint\n",
    "\n",
    "import time, datetime\n",
    "\n",
    "import seaborn as sns\n",
    "\n",
    "import plotly.express as px\n",
    "\n",
    "# from chart_studio import plotly as py\n",
    "import plotly.figure_factory as ff\n",
    "import plotly.graph_objects as go\n"
   ]
  },
  {
   "cell_type": "markdown",
   "metadata": {},
   "source": [
    "## Download GTEX data locally"
   ]
  },
  {
   "cell_type": "code",
   "execution_count": null,
   "metadata": {},
   "outputs": [
    {
     "name": "stderr",
     "output_type": "stream",
     "text": [
      "[I 210125 12:38:30 <ipython-input-26-a23e22683882>:29] Found /home/dustin/fleet_gene/data\n",
      "[I 210125 12:38:30 <ipython-input-26-a23e22683882>:36] found existing: /home/dustin/fleet_gene/data/GTEx_Analysis_2017-06-05_v8_RNASeQCv1.1.9_gene_median_tpm.gct.gz\n",
      "[I 210125 12:38:30 <ipython-input-26-a23e22683882>:36] found existing: /home/dustin/fleet_gene/data/GTEx_Analysis_2017-06-05_v8_RNASeQCv1.1.9_gene_tpm.gct.gz\n",
      "[I 210125 12:38:30 <ipython-input-26-a23e22683882>:36] found existing: /home/dustin/fleet_gene/data/GTEx_Analysis_v8_Annotations_SubjectPhenotypesDS.txt\n",
      "[I 210125 12:38:30 <ipython-input-26-a23e22683882>:36] found existing: /home/dustin/fleet_gene/data/GTEx_Analysis_v8_Annotations_SubjectPhenotypesDD.xlsx\n",
      "[I 210125 12:38:30 <ipython-input-26-a23e22683882>:36] found existing: /home/dustin/fleet_gene/data/GTEx_Analysis_v8_Annotations_SampleAttributesDS.txt\n",
      "[I 210125 12:38:30 <ipython-input-26-a23e22683882>:36] found existing: /home/dustin/fleet_gene/data/GTEx_Analysis_v8_Annotations_SampleAttributesDD.xlsx\n"
     ]
    }
   ],
   "source": [
    "## Comments below for nbdev_build_lib to export to fleet_gene/gtex.py\n",
    "# default_exp gtex\n",
    "# export\n",
    "\n",
    "from logzero import logger\n",
    "import pathlib\n",
    "import pickle\n",
    "import os\n",
    "from tqdm import tqdm\n",
    "import requests\n",
    "\n",
    "\n",
    "# GTEx data from https://gtexportal.org/home/datasets\n",
    "# Gene transcripts per million data\n",
    "\n",
    "GTEX_URL =  \"https://storage.googleapis.com/gtex_analysis_v8\"\n",
    "\n",
    "GTEXV8_TPM = os.path.join(GTEX_URL, \"rna_seq_data\", \"GTEx_Analysis_2017-06-05_v8_RNASeQCv1.1.9_gene_tpm.gct.gz\")\n",
    "GTEXV8_TPM_MED = os.path.join(GTEX_URL, \"rna_seq_data\", \"GTEx_Analysis_2017-06-05_v8_RNASeQCv1.1.9_gene_median_tpm.gct.gz\")\n",
    "GTEX_PHENO_DS = os.path.join(GTEX_URL, \"annotations\", \"GTEx_Analysis_v8_Annotations_SubjectPhenotypesDS.txt\")\n",
    "GTEX_PHENO_DD = os.path.join(GTEX_URL, \"annotations\", \"GTEx_Analysis_v8_Annotations_SubjectPhenotypesDD.xlsx\")\n",
    "GTEX_SAMPLE_DS = os.path.join(GTEX_URL, \"annotations\", \"GTEx_Analysis_v8_Annotations_SampleAttributesDS.txt\")\n",
    "GTEX_SAMPLE_DD = os.path.join(GTEX_URL, \"annotations\", \"GTEx_Analysis_v8_Annotations_SampleAttributesDD.xlsx\")\n",
    "\n",
    "script_dir = pathlib.Path().resolve()\n",
    "cache_dir = os.path.join(script_dir, \"data\")\n",
    "\n",
    "if os.path.exists(cache_dir):\n",
    "    logger.info(f\"Found {cache_dir}\")\n",
    "else:\n",
    "    os.mkdir(cache_dir)\n",
    "\n",
    "for url in [GTEXV8_TPM_MED, GTEXV8_TPM, GTEX_PHENO_DS, GTEX_PHENO_DD, GTEX_SAMPLE_DS, GTEX_SAMPLE_DD]:\n",
    "    dest = os.path.join(cache_dir, os.path.basename(url))\n",
    "    if os.path.exists(dest):\n",
    "        logger.info(f\"found existing: {dest}\")\n",
    "    else:\n",
    "        logger.info(f\"Downloading {dest}\")\n",
    "        # Open a handle onto the GTEx expression data\n",
    "        response = requests.get(url, stream=True)\n",
    "\n",
    "        with open(dest, \"wb\") as fh:\n",
    "            for data in tqdm(response.iter_content()):\n",
    "                fh.write(data)\n",
    "        logger.info(f\"Completed {dest}\")"
   ]
  },
  {
   "cell_type": "code",
   "execution_count": null,
   "metadata": {},
   "outputs": [
    {
     "name": "stderr",
     "output_type": "stream",
     "text": [
      "[I 210125 10:35:01 <ipython-input-3-50b7829108bd>:39] 31 separate tissue types - total samples 22951\n",
      "[I 210125 10:35:01 <ipython-input-3-50b7829108bd>:41] Adipose Tissue (n=1327)\n",
      "[I 210125 10:35:01 <ipython-input-3-50b7829108bd>:44] \tAdipose - Subcutaneous (n=763)\n",
      "[I 210125 10:35:01 <ipython-input-3-50b7829108bd>:44] \tAdipose - Visceral (Omentum) (n=564)\n",
      "[I 210125 10:35:01 <ipython-input-3-50b7829108bd>:41] Adrenal Gland (n=275)\n",
      "[I 210125 10:35:01 <ipython-input-3-50b7829108bd>:41] Bladder (n=21)\n",
      "[I 210125 10:35:01 <ipython-input-3-50b7829108bd>:41] Blood (n=3480)\n",
      "[I 210125 10:35:01 <ipython-input-3-50b7829108bd>:44] \tCells - EBV-transformed lymphocytes (n=192)\n",
      "[I 210125 10:35:01 <ipython-input-3-50b7829108bd>:44] \tWhole Blood (n=3288)\n",
      "[I 210125 10:35:01 <ipython-input-3-50b7829108bd>:41] Blood Vessel (n=1473)\n",
      "[I 210125 10:35:01 <ipython-input-3-50b7829108bd>:44] \tArtery - Aorta (n=450)\n",
      "[I 210125 10:35:01 <ipython-input-3-50b7829108bd>:44] \tArtery - Coronary (n=253)\n",
      "[I 210125 10:35:01 <ipython-input-3-50b7829108bd>:44] \tArtery - Tibial (n=770)\n",
      "[I 210125 10:35:01 <ipython-input-3-50b7829108bd>:41] Bone Marrow (n=217)\n",
      "[I 210125 10:35:01 <ipython-input-3-50b7829108bd>:41] Brain (n=3326)\n",
      "[I 210125 10:35:01 <ipython-input-3-50b7829108bd>:44] \tBrain - Amygdala (n=177)\n",
      "[I 210125 10:35:01 <ipython-input-3-50b7829108bd>:44] \tBrain - Anterior cingulate cortex (BA24) (n=213)\n",
      "[I 210125 10:35:01 <ipython-input-3-50b7829108bd>:44] \tBrain - Caudate (basal ganglia) (n=291)\n",
      "[I 210125 10:35:01 <ipython-input-3-50b7829108bd>:44] \tBrain - Cerebellar Hemisphere (n=263)\n",
      "[I 210125 10:35:01 <ipython-input-3-50b7829108bd>:44] \tBrain - Cerebellum (n=298)\n",
      "[I 210125 10:35:01 <ipython-input-3-50b7829108bd>:44] \tBrain - Cortex (n=325)\n",
      "[I 210125 10:35:01 <ipython-input-3-50b7829108bd>:44] \tBrain - Frontal Cortex (BA9) (n=425)\n",
      "[I 210125 10:35:01 <ipython-input-3-50b7829108bd>:44] \tBrain - Hippocampus (n=243)\n",
      "[I 210125 10:35:01 <ipython-input-3-50b7829108bd>:44] \tBrain - Hypothalamus (n=236)\n",
      "[I 210125 10:35:01 <ipython-input-3-50b7829108bd>:44] \tBrain - Nucleus accumbens (basal ganglia) (n=277)\n",
      "[I 210125 10:35:01 <ipython-input-3-50b7829108bd>:44] \tBrain - Putamen (basal ganglia) (n=232)\n",
      "[I 210125 10:35:01 <ipython-input-3-50b7829108bd>:44] \tBrain - Spinal cord (cervical c-1) (n=182)\n",
      "[I 210125 10:35:01 <ipython-input-3-50b7829108bd>:44] \tBrain - Substantia nigra (n=164)\n",
      "[I 210125 10:35:01 <ipython-input-3-50b7829108bd>:41] Breast (n=480)\n",
      "[I 210125 10:35:01 <ipython-input-3-50b7829108bd>:41] Cervix Uteri (n=19)\n",
      "[I 210125 10:35:01 <ipython-input-3-50b7829108bd>:44] \tCervix - Ectocervix (n=9)\n",
      "[I 210125 10:35:01 <ipython-input-3-50b7829108bd>:44] \tCervix - Endocervix (n=10)\n",
      "[I 210125 10:35:01 <ipython-input-3-50b7829108bd>:41] Colon (n=821)\n",
      "[I 210125 10:35:01 <ipython-input-3-50b7829108bd>:44] \tColon - Sigmoid (n=389)\n",
      "[I 210125 10:35:01 <ipython-input-3-50b7829108bd>:44] \tColon - Transverse (n=432)\n",
      "[I 210125 10:35:01 <ipython-input-3-50b7829108bd>:41] Esophagus (n=1582)\n",
      "[I 210125 10:35:01 <ipython-input-3-50b7829108bd>:44] \tEsophagus - Gastroesophageal Junction (n=401)\n",
      "[I 210125 10:35:01 <ipython-input-3-50b7829108bd>:44] \tEsophagus - Mucosa (n=622)\n",
      "[I 210125 10:35:01 <ipython-input-3-50b7829108bd>:44] \tEsophagus - Muscularis (n=559)\n",
      "[I 210125 10:35:01 <ipython-input-3-50b7829108bd>:41] Fallopian Tube (n=9)\n",
      "[I 210125 10:35:01 <ipython-input-3-50b7829108bd>:41] Heart (n=1141)\n",
      "[I 210125 10:35:01 <ipython-input-3-50b7829108bd>:44] \tHeart - Atrial Appendage (n=452)\n",
      "[I 210125 10:35:01 <ipython-input-3-50b7829108bd>:44] \tHeart - Left Ventricle (n=689)\n",
      "[I 210125 10:35:01 <ipython-input-3-50b7829108bd>:41] Kidney (n=104)\n",
      "[I 210125 10:35:01 <ipython-input-3-50b7829108bd>:44] \tKidney - Cortex (n=100)\n",
      "[I 210125 10:35:01 <ipython-input-3-50b7829108bd>:44] \tKidney - Medulla (n=4)\n",
      "[I 210125 10:35:01 <ipython-input-3-50b7829108bd>:41] Liver (n=251)\n",
      "[I 210125 10:35:01 <ipython-input-3-50b7829108bd>:41] Lung (n=867)\n",
      "[I 210125 10:35:01 <ipython-input-3-50b7829108bd>:41] Muscle (n=1132)\n",
      "[I 210125 10:35:01 <ipython-input-3-50b7829108bd>:41] Nerve (n=722)\n",
      "[I 210125 10:35:01 <ipython-input-3-50b7829108bd>:41] Ovary (n=195)\n",
      "[I 210125 10:35:01 <ipython-input-3-50b7829108bd>:41] Pancreas (n=360)\n",
      "[I 210125 10:35:01 <ipython-input-3-50b7829108bd>:41] Pituitary (n=301)\n",
      "[I 210125 10:35:01 <ipython-input-3-50b7829108bd>:41] Prostate (n=262)\n",
      "[I 210125 10:35:01 <ipython-input-3-50b7829108bd>:41] Salivary Gland (n=181)\n",
      "[I 210125 10:35:01 <ipython-input-3-50b7829108bd>:41] Skin (n=2014)\n",
      "[I 210125 10:35:01 <ipython-input-3-50b7829108bd>:44] \tCells - Cultured fibroblasts (n=527)\n",
      "[I 210125 10:35:01 <ipython-input-3-50b7829108bd>:44] \tSkin - Not Sun Exposed (Suprapubic) (n=638)\n",
      "[I 210125 10:35:01 <ipython-input-3-50b7829108bd>:44] \tSkin - Sun Exposed (Lower leg) (n=849)\n",
      "[I 210125 10:35:01 <ipython-input-3-50b7829108bd>:41] Small Intestine (n=193)\n",
      "[I 210125 10:35:01 <ipython-input-3-50b7829108bd>:41] Spleen (n=260)\n",
      "[I 210125 10:35:01 <ipython-input-3-50b7829108bd>:41] Stomach (n=381)\n",
      "[I 210125 10:35:01 <ipython-input-3-50b7829108bd>:41] Testis (n=406)\n",
      "[I 210125 10:35:01 <ipython-input-3-50b7829108bd>:41] Thyroid (n=812)\n",
      "[I 210125 10:35:01 <ipython-input-3-50b7829108bd>:41] Uterus (n=166)\n",
      "[I 210125 10:35:01 <ipython-input-3-50b7829108bd>:41] Vagina (n=173)\n"
     ]
    }
   ],
   "source": [
    "# Some Details about the GTEX data\n",
    "\n",
    "# Detailed data file:\n",
    "gtex_tpm_fn = os.path.join(cache_dir, os.path.basename(GTEXV8_TPM))\n",
    "\n",
    "# Just looking at median values by tissue (SMTSD) greatly reduces file size\n",
    "gtex_tpm_med_fn = os.path.join(cache_dir, os.path.basename(GTEXV8_TPM_MED))\n",
    "\n",
    "\n",
    "# Sample annotation data\n",
    "\n",
    "# Subject Phenotype data\n",
    "# Age, sex and Hardy Scale death circumstances\n",
    "gtex_pheno_fn =  os.path.join(cache_dir, os.path.basename(GTEX_PHENO_DS))\n",
    "\n",
    "# Main sample data of interest is:\n",
    "# 'SMTS': 'Tissue Type, area from which the tissue sample was taken.  This is a parent value to SMTSD.'\n",
    "# 'SMTSD': 'SMTS Detailed'\n",
    "gtex_attr_fn = os.path.join(cache_dir, os.path.basename(GTEX_SAMPLE_DS))\n",
    "gtex_attr_desc_fn = os.path.join(cache_dir, os.path.basename(GTEX_SAMPLE_DD))\n",
    "\n",
    "# Load tissue specific detatils\n",
    "gtex_attr = pandas.read_csv(gtex_attr_fn, sep='\\t')\n",
    "tissue_types = sorted(gtex_attr['SMTS'].unique())\n",
    "tissue_dict = dict()\n",
    "for tissue in tissue_types:\n",
    "    tissue_dict[tissue] = dict()\n",
    "    tissue_dict[tissue]['samples'] = gtex_attr[gtex_attr['SMTS'] == tissue]['SAMPID'].to_list()\n",
    "    tissue_dict[tissue]['subtypes'] = dict()\n",
    "    for subtype in gtex_attr[gtex_attr['SMTS'] == tissue]['SMTSD'].unique():\n",
    "        # Get all samples by subtype\n",
    "        tissue_dict[tissue]['subtypes'][subtype] = gtex_attr[gtex_attr['SMTSD'] == subtype]['SAMPID'].to_list()\n",
    "    \n",
    "\n",
    "    sorted(gtex_attr[gtex_attr['SMTS'] == tissue]['SMTSD'].unique())\n",
    "tissue_subtypes = sorted(gtex_attr['SMTSD'].unique())\n",
    "\n",
    "# log number of tissue samples\n",
    "logger.info('%s separate tissue types - total samples %s', len(tissue_dict), len(gtex_attr['SAMPID']))\n",
    "for tissue in sorted(tissue_dict.keys()):\n",
    "    logger.info('%s (n=%s)', tissue, len(tissue_dict[tissue]['samples']))\n",
    "    if len(tissue_dict[tissue]['subtypes']) > 1:\n",
    "        for subtype in sorted(tissue_dict[tissue]['subtypes'].keys()):\n",
    "            logger.info('\\t%s (n=%s)', subtype, len(tissue_dict[tissue]['subtypes'][subtype]))\n"
   ]
  },
  {
   "cell_type": "code",
   "execution_count": null,
   "metadata": {},
   "outputs": [
    {
     "name": "stderr",
     "output_type": "stream",
     "text": [
      "[I 210125 12:40:00 <ipython-input-27-16ead20aa256>:4] Found /home/dustin/fleet_gene/data\n",
      "[I 210125 12:40:00 <ipython-input-27-16ead20aa256>:11] found existing: /home/dustin/fleet_gene/data/GTEx_Analysis_2017-06-05_v8_RNASeQCv1.1.9_gene_median_tpm.gct.gz\n",
      "[I 210125 12:40:00 <ipython-input-27-16ead20aa256>:11] found existing: /home/dustin/fleet_gene/data/GTEx_Analysis_2017-06-05_v8_RNASeQCv1.1.9_gene_tpm.gct.gz\n",
      "[I 210125 12:40:00 <ipython-input-27-16ead20aa256>:11] found existing: /home/dustin/fleet_gene/data/GTEx_Analysis_v8_Annotations_SubjectPhenotypesDS.txt\n",
      "[I 210125 12:40:00 <ipython-input-27-16ead20aa256>:11] found existing: /home/dustin/fleet_gene/data/GTEx_Analysis_v8_Annotations_SubjectPhenotypesDD.xlsx\n",
      "[I 210125 12:40:00 <ipython-input-27-16ead20aa256>:11] found existing: /home/dustin/fleet_gene/data/GTEx_Analysis_v8_Annotations_SampleAttributesDS.txt\n",
      "[I 210125 12:40:00 <ipython-input-27-16ead20aa256>:11] found existing: /home/dustin/fleet_gene/data/GTEx_Analysis_v8_Annotations_SampleAttributesDD.xlsx\n"
     ]
    }
   ],
   "source": [
    "# Download the files to a local hard drive\n",
    "\n",
    "if os.path.exists(cache_dir):\n",
    "    logger.info(f\"Found {cache_dir}\")\n",
    "else:\n",
    "    os.mkdir(cache_dir)\n",
    "\n",
    "for url in [GTEXV8_TPM_MED, GTEXV8_TPM, GTEX_PHENO_DS, GTEX_PHENO_DD, GTEX_SAMPLE_DS, GTEX_SAMPLE_DD]:\n",
    "    dest = os.path.join(cache_dir, os.path.basename(url))\n",
    "    if os.path.exists(dest):\n",
    "        logger.info(f\"found existing: {dest}\")\n",
    "    else:\n",
    "        logger.info(f\"Downloading {dest}\")\n",
    "        response = requests.get(url, stream=True)\n",
    "\n",
    "        with open(dest, \"wb\") as fh:\n",
    "            for data in tqdm(response.iter_content()):\n",
    "                fh.write(data)\n",
    "        logger.info(f\"Completed {dest}\")"
   ]
  },
  {
   "cell_type": "code",
   "execution_count": null,
   "metadata": {},
   "outputs": [
    {
     "name": "stderr",
     "output_type": "stream",
     "text": [
      "[I 210125 10:54:13 <ipython-input-4-b213538e8d2c>:61] Loading Row partial table ...\n",
      "[I 210125 10:54:47 <ipython-input-4-b213538e8d2c>:63] Loading column partial table ...\n"
     ]
    }
   ],
   "source": [
    "# Some table loading helper functions\n",
    "\n",
    "# The full set of all all GTEx tpms is very large and can be hard to work with\n",
    "# Some functions only load some of the data at a time.\n",
    "\n",
    "# Genes of interest - some test genes \n",
    "TEST_GENES = [\n",
    "    'TP53',\n",
    "    'ERBB2',  # Herceptin target\n",
    "    'EGFR',\n",
    "    'AKT1',\n",
    "    'KRAS',\n",
    "    'PTEN',\n",
    "    'APOE',\n",
    "]\n",
    "\n",
    "TUMOUR_MUT_GENES = [  # www.tumourportal.org - highly mutated\n",
    "    'TP53',\n",
    "    'PIK3CA',\n",
    "    'PTEN',\n",
    "    'KRAS',\n",
    "    'APC',\n",
    "    'MLL3',  # aka KMT2C\n",
    "    'KMT2C',\n",
    "    'FAT1',\n",
    "    'MLL2',  # aka KMT2D\n",
    "    'KMT2D',\n",
    "    'ARID1A',\n",
    "    'VHL',\n",
    "    'PBRM1',\n",
    "    'NF1',\n",
    "    'EGFR',\n",
    "    'ATM',\n",
    "    'PIK3R1',\n",
    "    'BRAF',\n",
    "    'CDKN2A',\n",
    "    'SETD2',\n",
    "    'CREBBP',\n",
    "    'FBXW7',\n",
    "    'SPEN',\n",
    "    'MTOR',\n",
    "    'RB1',\n",
    "    'SMARCA4',\n",
    "    'NOTCH1',\n",
    "]\n",
    "\n",
    "TEST_GENES = sorted(set(TEST_GENES + TUMOUR_MUT_GENES))\n",
    "\n",
    "# gtex_tpm file has genes as rows.\n",
    "# First two columns are gene information\n",
    "# Over 10000 columns of samples\n",
    "\n",
    "#                Name Description  GTEX-1117F-0226-SM-5GZZ7  GTEX-111CU-1826-SM-5GZYN ...\n",
    "#0  ENSG00000223972.4     DDX11L1                   0.10820                   0.11580\n",
    "#1  ENSG00000227232.4      WASH7P                  21.40000                  11.03000\n",
    "\n",
    "\n",
    "GTPM_SKIP = 2  #  skip two comment rows at the beginning of the file\n",
    "\n",
    "# Just getting a few rows of this giant file\n",
    "logger.info('Loading Row partial table ...')\n",
    "gtpm_row_table = pandas.read_csv(gtex_tpm_fn, skiprows=2, sep='\\t', usecols=range(4))\n",
    "logger.info('Loading column partial table ...')\n",
    "gtpm_column_table = pandas.read_csv(gtex_tpm_fn, skiprows=lambda x: x not in [2, 3], sep='\\t')\n",
    "\n",
    "def gtpm_row_by_genename(gene_name):\n",
    "    sub_table = gtpm_row_table[gtpm_row_table['Description'] == gene_name]\n",
    "    if sub_table.empty:\n",
    "        logger.error(\"Missing '%s row in GTEX TPM table'\", gene_name)\n",
    "        return None\n",
    "    return [GTPM_SKIP + 1 + i for i in sub_table.index][0]\n",
    "\n",
    "def gtpm_keep_rows(gene_list=TEST_GENES):\n",
    "    row_list = [gtpm_row_by_genename(gene) for gene in gene_list]\n",
    "    return [GTPM_SKIP] + [gene for gene in row_list if gene]\n",
    "\n",
    "\n",
    "def gtex_tpm_partial_table_load(gene_list, sample_list=None):\n",
    "    start_time = time.time()\n",
    "    if gene_list:\n",
    "        keep_rows = gtpm_keep_rows(gene_list)\n",
    "        skiprows_func = lambda x: x not in keep_rows\n",
    "        logger.info('loading %s GTEX TPM rows', len(keep_rows))\n",
    "    else:\n",
    "        logger.info('loading all rows')\n",
    "        skiprows_func = lambda x: x in [0, 1]\n",
    "    \n",
    "    if sample_list:\n",
    "        logger.info('Limiting load to %s potential samples', len(sample_list))\n",
    "        # Not all samples are in tables\n",
    "        sample_list = [s for s in sample_list if s in gtpm_column_table.columns]\n",
    "        logger.info('Limiting load to %s samples', len(sample_list))\n",
    "        columns = ['Name', 'Description'] + sample_list\n",
    "    else:\n",
    "        sample_list = None\n",
    "    \n",
    "    gtpm_partial = pandas.read_csv(\n",
    "        gtex_tpm_fn,\n",
    "        skiprows=skiprows_func,  # Only selected gene rows\n",
    "        sep='\\t',\n",
    "        header=0,\n",
    "        usecols=sample_list,  # Number of samples limit\n",
    "    )\n",
    "    end_time = time.time()\n",
    "    logger.info(\"Gtex TPM partial table took {} minutes\".format((end_time - start_time)/60))\n",
    "    return gtpm_partial\n"
   ]
  },
  {
   "cell_type": "markdown",
   "metadata": {},
   "source": [
    "### Cache sample and gene lists\n",
    "\n",
    "Preload and save these lists so that we can load part of the GTEX tables easily"
   ]
  },
  {
   "cell_type": "code",
   "execution_count": null,
   "metadata": {},
   "outputs": [
    {
     "name": "stderr",
     "output_type": "stream",
     "text": [
      "[I 210125 12:17:52 <ipython-input-19-ce4b51075d0b>:10] GTEX data has 17382 samples\n",
      "[D 210125 12:17:52 <ipython-input-19-ce4b51075d0b>:27] Nonstandard ENSG in LL0YNC03-29C1.1 ENSG00000228572.7_PAR_Y version: 7_PAR_Y\n",
      "[D 210125 12:17:52 <ipython-input-19-ce4b51075d0b>:27] Nonstandard ENSG in PLCXD1 ENSG00000182378.13_PAR_Y version: 13_PAR_Y\n",
      "[D 210125 12:17:52 <ipython-input-19-ce4b51075d0b>:27] Nonstandard ENSG in GTPBP6 ENSG00000178605.13_PAR_Y version: 13_PAR_Y\n",
      "[D 210125 12:17:52 <ipython-input-19-ce4b51075d0b>:27] Nonstandard ENSG in LINC00685 ENSG00000226179.6_PAR_Y version: 6_PAR_Y\n",
      "[D 210125 12:17:52 <ipython-input-19-ce4b51075d0b>:27] Nonstandard ENSG in PPP2R3B ENSG00000167393.17_PAR_Y version: 17_PAR_Y\n",
      "[D 210125 12:17:52 <ipython-input-19-ce4b51075d0b>:27] Nonstandard ENSG in RP13-465B17.4 ENSG00000281849.3_PAR_Y version: 3_PAR_Y\n",
      "[D 210125 12:17:52 <ipython-input-19-ce4b51075d0b>:27] Nonstandard ENSG in Metazoa_SRP ENSG00000275287.5_PAR_Y version: 5_PAR_Y\n",
      "[D 210125 12:17:52 <ipython-input-19-ce4b51075d0b>:27] Nonstandard ENSG in RP13-465B17.5 ENSG00000280767.3_PAR_Y version: 3_PAR_Y\n",
      "[D 210125 12:17:52 <ipython-input-19-ce4b51075d0b>:27] Nonstandard ENSG in FABP5P13 ENSG00000234958.6_PAR_Y version: 6_PAR_Y\n",
      "[D 210125 12:17:52 <ipython-input-19-ce4b51075d0b>:27] Nonstandard ENSG in KRT18P53 ENSG00000229232.6_PAR_Y version: 6_PAR_Y\n",
      "[D 210125 12:17:52 <ipython-input-19-ce4b51075d0b>:27] Nonstandard ENSG in SHOX ENSG00000185960.13_PAR_Y version: 13_PAR_Y\n",
      "[D 210125 12:17:52 <ipython-input-19-ce4b51075d0b>:27] Nonstandard ENSG in RP11-309M23.1 ENSG00000237531.6_PAR_Y version: 6_PAR_Y\n",
      "[D 210125 12:17:52 <ipython-input-19-ce4b51075d0b>:27] Nonstandard ENSG in RPL14P5 ENSG00000225661.7_PAR_Y version: 7_PAR_Y\n",
      "[D 210125 12:17:52 <ipython-input-19-ce4b51075d0b>:27] Nonstandard ENSG in CRLF2 ENSG00000205755.11_PAR_Y version: 11_PAR_Y\n",
      "[D 210125 12:17:52 <ipython-input-19-ce4b51075d0b>:27] Nonstandard ENSG in CSF2RA ENSG00000198223.16_PAR_Y version: 16_PAR_Y\n",
      "[D 210125 12:17:52 <ipython-input-19-ce4b51075d0b>:27] Nonstandard ENSG in MIR3690 ENSG00000265658.6_PAR_Y version: 6_PAR_Y\n",
      "[D 210125 12:17:52 <ipython-input-19-ce4b51075d0b>:27] Nonstandard ENSG in RNA5SP498 ENSG00000223274.6_PAR_Y version: 6_PAR_Y\n",
      "[D 210125 12:17:52 <ipython-input-19-ce4b51075d0b>:27] Nonstandard ENSG in IL3RA ENSG00000185291.11_PAR_Y version: 11_PAR_Y\n",
      "[D 210125 12:17:52 <ipython-input-19-ce4b51075d0b>:27] Nonstandard ENSG in SLC25A6 ENSG00000169100.13_PAR_Y version: 13_PAR_Y\n",
      "[D 210125 12:17:52 <ipython-input-19-ce4b51075d0b>:27] Nonstandard ENSG in LINC00106 ENSG00000236871.7_PAR_Y version: 7_PAR_Y\n",
      "[D 210125 12:17:52 <ipython-input-19-ce4b51075d0b>:27] Nonstandard ENSG in ASMTL-AS1 ENSG00000236017.8_PAR_Y version: 8_PAR_Y\n",
      "[D 210125 12:17:52 <ipython-input-19-ce4b51075d0b>:27] Nonstandard ENSG in ASMTL ENSG00000169093.15_PAR_Y version: 15_PAR_Y\n",
      "[D 210125 12:17:52 <ipython-input-19-ce4b51075d0b>:27] Nonstandard ENSG in P2RY8 ENSG00000182162.10_PAR_Y version: 10_PAR_Y\n",
      "[D 210125 12:17:52 <ipython-input-19-ce4b51075d0b>:27] Nonstandard ENSG in AKAP17A ENSG00000197976.11_PAR_Y version: 11_PAR_Y\n",
      "[D 210125 12:17:52 <ipython-input-19-ce4b51075d0b>:27] Nonstandard ENSG in ASMT ENSG00000196433.12_PAR_Y version: 12_PAR_Y\n",
      "[D 210125 12:17:52 <ipython-input-19-ce4b51075d0b>:27] Nonstandard ENSG in RP13-297E16.4 ENSG00000223511.6_PAR_Y version: 6_PAR_Y\n",
      "[D 210125 12:17:52 <ipython-input-19-ce4b51075d0b>:27] Nonstandard ENSG in RP13-297E16.5 ENSG00000234622.6_PAR_Y version: 6_PAR_Y\n",
      "[D 210125 12:17:52 <ipython-input-19-ce4b51075d0b>:27] Nonstandard ENSG in DHRSX ENSG00000169084.13_PAR_Y version: 13_PAR_Y\n",
      "[D 210125 12:17:52 <ipython-input-19-ce4b51075d0b>:27] Nonstandard ENSG in DHRSX-IT1 ENSG00000223571.6_PAR_Y version: 6_PAR_Y\n",
      "[D 210125 12:17:52 <ipython-input-19-ce4b51075d0b>:27] Nonstandard ENSG in ZBED1 ENSG00000214717.11_PAR_Y version: 11_PAR_Y\n",
      "[D 210125 12:17:52 <ipython-input-19-ce4b51075d0b>:27] Nonstandard ENSG in MIR6089 ENSG00000277120.5_PAR_Y version: 5_PAR_Y\n",
      "[D 210125 12:17:52 <ipython-input-19-ce4b51075d0b>:27] Nonstandard ENSG in CD99P1 ENSG00000223773.7_PAR_Y version: 7_PAR_Y\n",
      "[D 210125 12:17:52 <ipython-input-19-ce4b51075d0b>:27] Nonstandard ENSG in LINC00102 ENSG00000230542.6_PAR_Y version: 6_PAR_Y\n",
      "[D 210125 12:17:52 <ipython-input-19-ce4b51075d0b>:27] Nonstandard ENSG in CD99 ENSG00000002586.18_PAR_Y version: 18_PAR_Y\n",
      "[D 210125 12:17:52 <ipython-input-19-ce4b51075d0b>:27] Nonstandard ENSG in SPRY3 ENSG00000168939.11_PAR_Y version: 11_PAR_Y\n",
      "[D 210125 12:17:52 <ipython-input-19-ce4b51075d0b>:27] Nonstandard ENSG in AMD1P2 ENSG00000237801.6_PAR_Y version: 6_PAR_Y\n",
      "[D 210125 12:17:52 <ipython-input-19-ce4b51075d0b>:27] Nonstandard ENSG in DPH3P2 ENSG00000237040.6_PAR_Y version: 6_PAR_Y\n",
      "[D 210125 12:17:52 <ipython-input-19-ce4b51075d0b>:27] Nonstandard ENSG in VAMP7 ENSG00000124333.15_PAR_Y version: 15_PAR_Y\n",
      "[D 210125 12:17:52 <ipython-input-19-ce4b51075d0b>:27] Nonstandard ENSG in ELOCP24 ENSG00000228410.6_PAR_Y version: 6_PAR_Y\n",
      "[D 210125 12:17:52 <ipython-input-19-ce4b51075d0b>:27] Nonstandard ENSG in TRPC6P ENSG00000223484.7_PAR_Y version: 7_PAR_Y\n",
      "[D 210125 12:17:52 <ipython-input-19-ce4b51075d0b>:27] Nonstandard ENSG in IL9R ENSG00000124334.17_PAR_Y version: 17_PAR_Y\n",
      "[D 210125 12:17:52 <ipython-input-19-ce4b51075d0b>:27] Nonstandard ENSG in WASIR1 ENSG00000185203.12_PAR_Y version: 12_PAR_Y\n",
      "[D 210125 12:17:52 <ipython-input-19-ce4b51075d0b>:27] Nonstandard ENSG in WASH6P ENSG00000182484.15_PAR_Y version: 15_PAR_Y\n",
      "[D 210125 12:17:52 <ipython-input-19-ce4b51075d0b>:27] Nonstandard ENSG in DDX11L16 ENSG00000227159.8_PAR_Y version: 8_PAR_Y\n"
     ]
    },
    {
     "name": "stdout",
     "output_type": "stream",
     "text": [
      "Index(['Name', 'Description', 'GTEX-1117F-0226-SM-5GZZ7'], dtype='object')\n",
      "['ENSG00000223972.5', 'ENSG00000227232.5']\n",
      "['DDX11L1', 'WASH7P']\n",
      "GTEX data on 56200\n"
     ]
    }
   ],
   "source": [
    "print(gtpm_column_table.columns[:3])\n",
    "assert gtpm_column_table.columns[0] == \"Name\"\n",
    "assert gtpm_column_table.columns[1] == \"Description\"\n",
    "\n",
    "# Remaining columns are GTEX samples that start with GTEX-\n",
    "GTEX_SAMPLES = gtpm_column_table.columns[2:].tolist()\n",
    "for sample in GTEX_SAMPLES:\n",
    "    assert sample.startswith(\"GTEX-\")\n",
    "\n",
    "logger.info(f\"GTEX data has {len(GTEX_SAMPLES)} samples\")\n",
    "\n",
    "GTEX_GENES_ENSG = gtpm_row_table[\"Name\"].tolist()\n",
    "GTEX_GENES_SYMBOL = gtpm_row_table[\"Description\"].tolist()\n",
    "print(GTEX_GENES_ENSG[:2])\n",
    "print(GTEX_GENES_SYMBOL[:2])\n",
    "\n",
    "pseudo = []\n",
    "for ensg, symbol in zip(GTEX_GENES_ENSG, GTEX_GENES_SYMBOL):\n",
    "    assert ensg.startswith(\"ENSG\")\n",
    "    assert \".\" in ensg\n",
    "    version = ensg[ensg.index(\".\") + 1:]\n",
    "    try:\n",
    "        int(version)\n",
    "    except ValueError as err:\n",
    "        if version.endswith(\"_PAR_Y\"):\n",
    "            # PAR1, PAR2, are homologous sequences of nucleotides on the X and Y chromosomes\n",
    "            logger.debug(f\"Nonstandard ENSG in {symbol} {ensg} version: {version}\")\n",
    "            pseudo.append((ensg, symbol))\n",
    "        else:\n",
    "            logger.error(f\"Nonstandard ENSG {ensg} version: {version}\")\n",
    "print(f\"GTEX data on {len(GTEX_GENES_ENSG)} genes\")"
   ]
  },
  {
   "cell_type": "code",
   "execution_count": null,
   "metadata": {},
   "outputs": [
    {
     "name": "stderr",
     "output_type": "stream",
     "text": [
      "[I 210125 12:41:48 <ipython-input-28-9f21507b2af4>:10] Pickling gene lists to /home/dustin/fleet_gene/data\n"
     ]
    },
    {
     "name": "stdout",
     "output_type": "stream",
     "text": [
      "GTEX has 199 duplicate 'Descriptions' involving 1807 Ensembl genes.\n"
     ]
    }
   ],
   "source": [
    "dup_symbols = [i for i in GTEX_GENES_SYMBOL if GTEX_GENES_SYMBOL.count(i) > 1]\n",
    "num_ambiguous_recs = len(dup_symbols)\n",
    "dup_symbols = sorted(set(dup_symbols))\n",
    "print(f\"GTEX has {len(dup_symbols)} duplicate 'Descriptions' involving {num_ambiguous_recs} Ensembl genes.\")\n",
    "\n",
    "# Verify there are only duplications in symbols and not Ensembl gene ids\n",
    "assert len(GTEX_GENES_ENSG) == len(set(GTEX_GENES_ENSG))\n",
    "\n",
    "# pickle these lists for quick reloading later\n",
    "logger.info(f\"Pickling gene lists to {cache_dir}\")\n",
    "pickle.dump(GTEX_GENES_ENSG, open(os.path.join(cache_dir, \"GTEX_GENES_ENSG.pkl\"), \"wb\"))\n",
    "pickle.dump(GTEX_GENES_SYMBOL, open(os.path.join(cache_dir, \"GTEX_GENES_SYMBOL.pkl\"), \"wb\"))\n",
    "pickle.dump(dup_symbols, open(os.path.join(cache_dir, \"GTEX_GENES_SYMBOL_DUPLICATES.pkl\"), \"wb\"))"
   ]
  },
  {
   "cell_type": "code",
   "execution_count": null,
   "metadata": {},
   "outputs": [
    {
     "ename": "NameError",
     "evalue": "name 'cache_dir' is not defined",
     "output_type": "error",
     "traceback": [
      "\u001b[0;31m---------------------------------------------------------------------------\u001b[0m",
      "\u001b[0;31mNameError\u001b[0m                                 Traceback (most recent call last)",
      "\u001b[0;32m<ipython-input-1-f83eae2a4ab6>\u001b[0m in \u001b[0;36m<module>\u001b[0;34m\u001b[0m\n\u001b[1;32m      3\u001b[0m \u001b[0;31m# just export the gene list constants for speed later\u001b[0m\u001b[0;34m\u001b[0m\u001b[0;34m\u001b[0m\u001b[0;34m\u001b[0m\u001b[0m\n\u001b[1;32m      4\u001b[0m \u001b[0;32mimport\u001b[0m \u001b[0mos\u001b[0m\u001b[0;34m,\u001b[0m \u001b[0mpickle\u001b[0m\u001b[0;34m\u001b[0m\u001b[0;34m\u001b[0m\u001b[0m\n\u001b[0;32m----> 5\u001b[0;31m \u001b[0mGTEX_GENES_ENSG\u001b[0m \u001b[0;34m=\u001b[0m \u001b[0mpickle\u001b[0m\u001b[0;34m.\u001b[0m\u001b[0mload\u001b[0m\u001b[0;34m(\u001b[0m\u001b[0mopen\u001b[0m\u001b[0;34m(\u001b[0m\u001b[0mos\u001b[0m\u001b[0;34m.\u001b[0m\u001b[0mpath\u001b[0m\u001b[0;34m.\u001b[0m\u001b[0mjoin\u001b[0m\u001b[0;34m(\u001b[0m\u001b[0mcache_dir\u001b[0m\u001b[0;34m,\u001b[0m \u001b[0;34m\"GTEX_GENES_ENSG.pkl\"\u001b[0m\u001b[0;34m)\u001b[0m\u001b[0;34m,\u001b[0m \u001b[0;34m\"rb\"\u001b[0m\u001b[0;34m)\u001b[0m\u001b[0;34m)\u001b[0m\u001b[0;34m\u001b[0m\u001b[0;34m\u001b[0m\u001b[0m\n\u001b[0m\u001b[1;32m      6\u001b[0m \u001b[0mGTEX_GENES_SYMBOL\u001b[0m \u001b[0;34m=\u001b[0m \u001b[0mpickle\u001b[0m\u001b[0;34m.\u001b[0m\u001b[0mload\u001b[0m\u001b[0;34m(\u001b[0m\u001b[0mopen\u001b[0m\u001b[0;34m(\u001b[0m\u001b[0mos\u001b[0m\u001b[0;34m.\u001b[0m\u001b[0mpath\u001b[0m\u001b[0;34m.\u001b[0m\u001b[0mjoin\u001b[0m\u001b[0;34m(\u001b[0m\u001b[0mcache_dir\u001b[0m\u001b[0;34m,\u001b[0m \u001b[0;34m\"GTEX_GENES_SYMBOL.pkl\"\u001b[0m\u001b[0;34m)\u001b[0m\u001b[0;34m,\u001b[0m \u001b[0;34m\"rb\"\u001b[0m\u001b[0;34m)\u001b[0m\u001b[0;34m)\u001b[0m\u001b[0;34m\u001b[0m\u001b[0;34m\u001b[0m\u001b[0m\n\u001b[1;32m      7\u001b[0m \u001b[0mGTEX_GENES_SYMBOL_DUPLICATES\u001b[0m \u001b[0;34m=\u001b[0m \u001b[0mpickle\u001b[0m\u001b[0;34m.\u001b[0m\u001b[0mload\u001b[0m\u001b[0;34m(\u001b[0m\u001b[0mopen\u001b[0m\u001b[0;34m(\u001b[0m\u001b[0mos\u001b[0m\u001b[0;34m.\u001b[0m\u001b[0mpath\u001b[0m\u001b[0;34m.\u001b[0m\u001b[0mjoin\u001b[0m\u001b[0;34m(\u001b[0m\u001b[0mcache_dir\u001b[0m\u001b[0;34m,\u001b[0m \u001b[0;34m\"GTEX_GENES_SYMBOL_DUPLICATES.pkl\"\u001b[0m\u001b[0;34m)\u001b[0m\u001b[0;34m,\u001b[0m \u001b[0;34m\"rb\"\u001b[0m\u001b[0;34m)\u001b[0m\u001b[0;34m)\u001b[0m\u001b[0;34m\u001b[0m\u001b[0;34m\u001b[0m\u001b[0m\n",
      "\u001b[0;31mNameError\u001b[0m: name 'cache_dir' is not defined"
     ]
    }
   ],
   "source": [
    "# export\n",
    "\n",
    "# just export the gene list constants for speed later\n",
    "import os, pickle\n",
    "GTEX_GENES_ENSG = pickle.load(open(os.path.join(cache_dir, \"GTEX_GENES_ENSG.pkl\"), \"rb\"))\n",
    "GTEX_GENES_SYMBOL = pickle.load(open(os.path.join(cache_dir, \"GTEX_GENES_SYMBOL.pkl\"), \"rb\"))\n",
    "GTEX_GENES_SYMBOL_DUPLICATES = pickle.load(open(os.path.join(cache_dir, \"GTEX_GENES_SYMBOL_DUPLICATES.pkl\"), \"rb\"))"
   ]
  },
  {
   "cell_type": "code",
   "execution_count": null,
   "metadata": {},
   "outputs": [],
   "source": [
    "# Small table of median values per tissue only\n",
    "logger.info(f\"loading median GTEx tissue TPM values: {gtex_tpm_med_fn}\")\n",
    "gtpm_med = pandas.read_csv(gtex_tpm_med_fn, sep='\\t', skiprows=2, low_memory=False)\n",
    "# gtpm_breast = gtex_tpm_partial_table_load(gene_list=TEST_GENES, sample_list=tissue_dict['Breast']['samples'])\n",
    "\n",
    "logger.info(f\"loading GTEX TPMs for {len(TEST_GENES)} genes\")\n",
    "logger.info(f\" GTEX GENES {TEST_GENES}\")\n",
    "gtpm = gtex_tpm_partial_table_load(gene_list=TEST_GENES,)\n",
    "\n",
    "# Remove missing genes from the test\n",
    "TEST_GENES = gtpm['Description'].to_list()"
   ]
  },
  {
   "cell_type": "markdown",
   "metadata": {},
   "source": [
    "## Median TPM values and Tissue comparison\n",
    "\n",
    "The smaller table of median TPM values can give us a good idea of the overall character of the different genes.\n",
    "\n",
    "The spread includes extreme values, most of the tissues are similar.\n",
    "\n",
    "Mean is ~ 16 - 17 TPM, but 50th percentile is 0 and 75th percentile is ~ 2.\n",
    "\n",
    "This indicates that the TPM is not a normal distribution, but has a small number of extreme values."
   ]
  },
  {
   "cell_type": "code",
   "execution_count": null,
   "metadata": {},
   "outputs": [],
   "source": [
    "\n",
    "# Do something with the median values\n",
    "\n",
    "rename_cols = dict()\n",
    "for t in tissue_dict.keys():\n",
    "    # pprint(tissue_dict[t]['subtypes'].keys())\n",
    "    # pick a single representative tissue subtype\n",
    "    subtype =  sorted(tissue_dict[t]['subtypes'].keys())[-1]\n",
    "    if subtype != 'Cells - Leukemia cell line (CML)':\n",
    "        rename_cols[subtype] = t\n",
    "sample_columns = tuple(t\n",
    "     for t in tissue_dict.keys()\n",
    "    )\n",
    "\n",
    "# gm = gtpm_med.drop('gene_id', axis=1).set_index('Description')\n",
    "gm = gtpm_med.set_index('Description')\n",
    "\n",
    "gm.rename(columns=rename_cols, inplace=True)\n",
    "gm = gm[sorted(rename_cols.values())]\n",
    "# Copy table so we can add and modify values\n",
    "gm = gm.copy()\n",
    "\n",
    "# Using gm table we can chacterize the genes a bit.\n",
    "# the spread includes extreme values, most of the tissues are similar\n",
    "# Mean is ~ 16 - 17 TPM, but 50th percentile is 0 and 75th percentile is ~ 2\n",
    "pandas.set_option('max_columns', 60)\n",
    "pandas.set_option('display.width', 120)\n",
    "#print(gm.describe())\n",
    "print(gm.loc[TEST_GENES].head())\n"
   ]
  },
  {
   "cell_type": "code",
   "execution_count": null,
   "metadata": {},
   "outputs": [],
   "source": [
    "\n",
    "# Apply some known values\n",
    "gm['mean'] = gm.apply(lambda row: row.mean(), axis=1)\n",
    "gm['median'] = gm.apply(lambda row: row.median(), axis=1)\n",
    "gm['std'] = gm.apply(lambda row: row.std(), axis=1)\n",
    "#gm['mode'] = gm.apply(lambda row: row.mode(), axis=1)\n",
    "gm['CoV'] = gm.apply(lambda row: np.inf if row['mean'] == 0 else row['std']/row['mean'], axis=1)\n",
    "gm['sem'] = gm.apply(lambda row: row.sem(), axis=1)\n",
    "gm.head()\n",
    "\n",
    "# high expression # low deviation among tissues\n",
    "gm_bench = gm[(gm['median'] >= 1)  # high expression\n",
    "             & (gm['median'] - 3.5 * gm['std'] > 0)\n",
    "            ]\n",
    "\n",
    "#cross_tissue_genes = sorted(gm_bench['Description'].tolist())\n",
    "\n",
    "print(\"Of {} genes, the top {} in stable cross-tissue expression are:\".format(len(gm), len(gm_bench)))\n",
    "#for gene in cross_tissue_genes:\n",
    "#    print('\\t{}'.format(gene))\n",
    "gm_bench.sort_values(by='CoV')\n"
   ]
  },
  {
   "cell_type": "code",
   "execution_count": null,
   "metadata": {},
   "outputs": [],
   "source": [
    "gm.sort_values(by='sem').head(30)"
   ]
  },
  {
   "cell_type": "code",
   "execution_count": null,
   "metadata": {},
   "outputs": [],
   "source": [
    "gm.loc[TEST_GENES]"
   ]
  },
  {
   "cell_type": "code",
   "execution_count": null,
   "metadata": {},
   "outputs": [],
   "source": [
    "# Transpose to get Gene Columns\n",
    "gt = gtpm[gtpm.columns[1:]]\n",
    "gt.set_index('Description', inplace=True)\n",
    "org_cols = gt.columns\n",
    "\n",
    "#gtt = gt.transpose()\n",
    "#gtt.head()\n",
    "gt.head()"
   ]
  },
  {
   "cell_type": "code",
   "execution_count": null,
   "metadata": {},
   "outputs": [],
   "source": [
    "print(gt.loc['TP53'].describe())\n",
    "print(gt.loc['ERBB2'].describe())\n",
    "print(gt.loc['PTEN'].describe())"
   ]
  },
  {
   "cell_type": "code",
   "execution_count": null,
   "metadata": {},
   "outputs": [],
   "source": [
    "#gt.loc['TP53'].value_counts(bins=100, sort=False)\n",
    "#gt.loc['PTEN'].skew()\n",
    "#gt.loc['PTEN'].kurtosis()\n",
    "gt.loc['PTEN'].quantile(0.9)\n",
    "\n",
    "gtpm.head()\n",
    "#gt.T[TEST_GENES[:-1]].iplot(kind='box',)\n",
    "#gt.T[['TP53', 'PTEN']].plot(kind='box',)"
   ]
  },
  {
   "cell_type": "code",
   "execution_count": null,
   "metadata": {},
   "outputs": [],
   "source": [
    "import math\n",
    "\n",
    "#gene = 'TP53'\n",
    "gene = 'PTEN'\n",
    "title = '{}: Samples {}'.format(gene, len(gt.loc[gene]))\n",
    "#gtt[gene].iplot(kind='hist', title=title, yTitle='counts', xTitle='Expression (TPM)', bins=100)\n",
    "\n",
    "#py.iplot(gt.loc[gene].to_list(), kind='hist', title=title, yTitle='counts', xTitle='Expression (TPM)', bins=100)\n",
    "#gt.loc[gene].iplot(kind='hist', title=title, yTitle='counts', xTitle='Expression (TPM)', bins=100)\n",
    "#gt.loc[gene].plot(kind='hist', title=title, bins=100)\n",
    "\n",
    "glog2 = gt.loc[gene].apply(math.log2)\n",
    "glog2.plot(kind='hist', title=title, bins=100)\n",
    "\n",
    "px.histogram(gt.loc[gene])"
   ]
  },
  {
   "cell_type": "code",
   "execution_count": null,
   "metadata": {},
   "outputs": [],
   "source": [
    "\n",
    "#print(ff.create_distplot.__doc__)\n",
    "gene_list = ['TP53', 'PTEN', 'KRAS', 'ERBB2', 'CDKN2A']\n",
    "gene_list = ['TP53', 'PTEN', 'KRAS',]\n",
    "px.histogram([gt.loc[g] for g in gene_list], gene_list)"
   ]
  },
  {
   "cell_type": "code",
   "execution_count": null,
   "metadata": {},
   "outputs": [],
   "source": [
    "# by tissue types\n",
    "gene = 'TP53'\n",
    "data_lists = []\n",
    "labels = []\n",
    "for tissue in tissue_dict.keys():\n",
    "    samples = tissue_dict[tissue]['samples']\n",
    "    # print(tissue)\n",
    "    # print(len(samples))\n",
    "    gt_samples = [s for s in samples if s in gt.columns]\n",
    "    if len(gt_samples) > 20:\n",
    "        dt = gt.loc[gene][gt_samples].dropna()\n",
    "        if not dt.empty:\n",
    "            data_lists.append(dt)\n",
    "            labels.append('{}({}) ~ {}'.format(tissue, len(samples), round(dt.median(), 1)))\n",
    "    else:\n",
    "        print('Only {} samples for \"{}\"'.format(len(gt_samples), tissue))\n",
    "# add all samples\n",
    "dt = gt.loc[gene].dropna()\n",
    "data_lists.append(dt)\n",
    "labels.append('{} - all ({}) ~ {}'.format(gene, len(dt), round(dt.median(), 1)))\n",
    "\n",
    "fig_tp53 = ff.create_distplot(data_lists, labels, show_hist=False, show_rug=False, show_curve=True)  # curve_type='normal')\n",
    "fig_tp53.layout.update(title=gene)\n",
    "fig_tp53.show()"
   ]
  },
  {
   "cell_type": "code",
   "execution_count": null,
   "metadata": {},
   "outputs": [],
   "source": [
    "# Expected distributions are roughly log normal - not normal distributions.\n",
    "dir(go)\n",
    "gene='PTEN'\n",
    "tpm_label = \"TPM      {} skew: {} kurtosis: {}\".format(gene,\n",
    "                                                       round(gt.loc[gene].skew(), 2),\n",
    "                                                       round(gt.loc[gene].kurtosis(), 2))\n",
    "log2_label = \"log2TPM {} skew: {} kurtosis: {}\".format(gene,\n",
    "                                                       round(gt.loc[gene].apply(np.log2).skew(), 2),\n",
    "                                                       round(gt.loc[gene].apply(np.log2).kurtosis(), 2))\n",
    "\n",
    "fig_log2vsNormal = ff.create_distplot([gt.loc[gene].apply(np.log2), gt.loc[gene]],\n",
    "                         [log2_label, tpm_label],\n",
    "                         bin_size=[0.1, 2],\n",
    "                         curve_type='normal',)\n",
    "fig_log2vsNormal.show()\n",
    "\n"
   ]
  },
  {
   "cell_type": "markdown",
   "metadata": {},
   "source": [
    "# Data structure\n",
    "\n",
    "Data like TPM is lognormal distributed. \n",
    " * There cannot be a negative number of transcripts.\n",
    " * log transforms (like fold-change - log 2) are more normally disturbuted.\n",
    " \n",
    " More irregular curves, like TP53 show more log-normal distributions when clustered into relevent groups, like tissue types.\n",
    " \n",
    " Otherwise, something like sklearn.preprocessing.RobustScaler looks good for IQR scaling - robust to outliers.\n",
    " \n",
    " This Scaler removes the median and scales the data according to the quantile range (defaults to IQR: Interquartile Range). The IQR is the range between the 1st quartile (25th quantile) and the 3rd quartile (75th quantile).\n",
    " \n",
    " \n",
    " ## Correlation\n",
    " \n",
    " Gene expressions are correlated / anti-correlated (mutual information/effect) in interaction pathways.  'Activation' of certiain pathways is of interest for cancer and drug effects measures.\n",
    " \n",
    " \n",
    " PCA with 'whitening' "
   ]
  },
  {
   "cell_type": "code",
   "execution_count": null,
   "metadata": {},
   "outputs": [],
   "source": [
    "# Normalize to log2RPKM - log normal data\n",
    "# Data is now effectively in fold change units\n",
    "\n",
    "# Use a minum value to prevent div by zero.\n",
    "#safelog2 = lambda x: numpy.log2(x) if x else numpy.log2(sys.float_info.min)\n",
    "safelog2 = lambda x: np.log2(x) if x else np.nan\n",
    "gfc = gt.applymap(safelog2)\n",
    "\n",
    "print(gfc.info())\n",
    "print(gfc.head())"
   ]
  },
  {
   "cell_type": "code",
   "execution_count": null,
   "metadata": {},
   "outputs": [],
   "source": [
    "# Try data reduction like PCA and LDA\n",
    "\n",
    "from sklearn.preprocessing import PowerTransformer\n",
    "from sklearn.preprocessing import RobustScaler\n",
    "\n",
    "# Which way are we scaling? Rows or columns?\n",
    "rs = RobustScaler()\n",
    "scaler = rs.fit(gfc.T)\n",
    "gfc_norm = pandas.DataFrame(scaler.transform(gfc.T), index=gfc.columns, columns=gfc.index)\n",
    "gfc_norm.dropna(inplace=True)\n",
    "print(gfc_norm.head())\n",
    "gfc_norm.describe()\n"
   ]
  },
  {
   "cell_type": "code",
   "execution_count": null,
   "metadata": {},
   "outputs": [],
   "source": [
    "# by tissue types\n",
    "gene = 'PTEN'\n",
    "data_lists = []\n",
    "labels = []\n",
    "for tissue in tissue_dict.keys():\n",
    "    samples = tissue_dict[tissue]['samples']\n",
    "    # print(tissue)\n",
    "    # print(len(samples))\n",
    "    gt_samples = [s for s in samples if s in gfc_norm.index]\n",
    "    if len(gt_samples) > 20:\n",
    "        dt = gfc_norm[gene][gt_samples].dropna()\n",
    "        if not dt.empty:\n",
    "            data_lists.append(dt)\n",
    "            labels.append('{}({}) ~ {}'.format(tissue, len(samples), round(dt.median(), 1)))\n",
    "    else:\n",
    "        print('Only {} samples for \"{}\"'.format(len(gt_samples), tissue))\n",
    "# add all samples\n",
    "dt = gfc_norm[gene].dropna()\n",
    "data_lists.append(dt)\n",
    "labels.append('{} - all ({}) ~ {}'.format(gene, len(dt), round(dt.median(), 1)))\n",
    "\n",
    "fig_log2tissue = ff.create_distplot(data_lists, labels, show_hist=False, show_rug=False, show_curve=True)  # curve_type='normal')\n",
    "fig_log2tissue.layout.update(title=gene)\n",
    "fig_log2tissue.show()"
   ]
  },
  {
   "cell_type": "code",
   "execution_count": null,
   "metadata": {},
   "outputs": [],
   "source": [
    "# imitate https://stackabuse.com/implementing-lda-in-python-with-scikit-learn/\n",
    "from sklearn.ensemble import RandomForestClassifier\n",
    "from sklearn.metrics import confusion_matrix, accuracy_score\n",
    "from sklearn.discriminant_analysis import LinearDiscriminantAnalysis as LDA\n",
    "from sklearn.decomposition import PCA\n",
    "\n",
    "import sklearn.decomposition\n",
    "print('sklearn.decomposition')\n",
    "pprint([f for f in dir(sklearn.decomposition) if str(f)[0] != '_'])\n",
    "\n",
    "import sklearn.discriminant_analysis\n",
    "print('sklearn.discriminant_analysis')\n",
    "pprint([f for f in dir(sklearn.discriminant_analysis) if str(f)[0] != '_'])\n",
    "\n",
    "print('sklearn.ensemble')\n",
    "import sklearn.ensemble\n",
    "pprint([f for f in dir(sklearn.ensemble) if str(f)[0] != '_'])\n",
    "\n",
    "print('sklearn.metrics')\n",
    "import sklearn.metrics\n",
    "pprint([f for f in dir(sklearn.metrics) if str(f)[0] != '_'])\n",
    "pprint(dir(sklearn.metrics))\n",
    "\n"
   ]
  },
  {
   "cell_type": "code",
   "execution_count": null,
   "metadata": {},
   "outputs": [],
   "source": [
    "# PCA\n",
    "# sparse PCA is probably better - interpret which genes are more important.\n",
    "\n",
    "pca3 = PCA(n_components=3)  # Alt opt PCA(0.99) - enough components for 99% of variance\n",
    "sparse_pca = sklearn.decomposition.SparsePCA(n_components=3)\n",
    "\n",
    "sparse_comp = sparse_pca.fit_transform(gfc_norm)\n",
    "components3 = pca3.fit_transform(gfc_norm)\n",
    "\n",
    "print(pandas.DataFrame(components3).head())\n",
    "pca3.explained_variance_ratio_"
   ]
  },
  {
   "cell_type": "code",
   "execution_count": null,
   "metadata": {},
   "outputs": [],
   "source": [
    "# Find the most important genes in pc1\n",
    "\n",
    "sparse_comp = pandas.DataFrame(sparse_pca.components_, columns=gfc_norm.columns)\n",
    "print(sparse_comp)\n",
    "pc1 = sparse_comp.loc[0]\n",
    "#pc1_genes = [g.index for g in pc1 if g != 0]\n",
    "print(pc1)\n",
    "pc1 = pc1.apply(abs)\n",
    "#print(pc1.sort_values.__doc__)\n",
    "pc1.sort_values(ascending=False, inplace=True)\n",
    "print(pc1)\n",
    "pc1_gene_list =[gene for gene in pc1.index if pc1[gene] != 0]\n",
    "print(pc1_gene_list)\n"
   ]
  },
  {
   "cell_type": "code",
   "execution_count": null,
   "metadata": {},
   "outputs": [],
   "source": [
    "# Some playing around with mutiindex for more useful tables\n",
    "gtm = pandas.read_csv(gtex_tpm_med_fn, sep='\\t', skiprows=2, low_memory=False)\n",
    "\n",
    "gtm.set_index(['Description', 'Name'], inplace=True)\n",
    "\n",
    "#tissues = [(col.split(' - ')[0], col.replace(col.split(' - ')[0] + ' - ', '')) for col in gtm.columns]\n",
    "tissues = [col.split(' - ')[0] for col in gtm.columns]\n",
    "subtypes =  [col.replace(col.split(' - ')[0] + ' - ', '') for col in gtm.columns]\n",
    "\n",
    "gtm.columns = [tissues, subtypes]\n",
    "print(gtm.head())\n",
    "\n",
    "print(gtm.loc['TP53', 'Brain'])\n",
    "\n",
    "# Makes some reasonable subtables.  With droplevel seems to work ok."
   ]
  },
  {
   "cell_type": "code",
   "execution_count": null,
   "metadata": {},
   "outputs": [],
   "source": [
    "gtm.loc[:, 'Brain']\n",
    "#gtm.loc[:, gtm.columns.get_level_values(1) == 'Cortex']"
   ]
  },
  {
   "cell_type": "markdown",
   "metadata": {},
   "source": [
    "# Full size - slow run"
   ]
  },
  {
   "cell_type": "code",
   "execution_count": null,
   "metadata": {},
   "outputs": [],
   "source": [
    "gtex_attr.head()"
   ]
  },
  {
   "cell_type": "code",
   "execution_count": null,
   "metadata": {},
   "outputs": [],
   "source": [
    "print(f'Full list of patient samples is {gtex_attr[\"SMAFRZE\"].unique()}')\n",
    "# Use only the RNASEQ set\n",
    "print(f'Using only RNASEQ drops {len(gtex_attr[gtex_attr[\"SMAFRZE\"] != \"RNASEQ\"])} records')\n",
    "rna_seq_patients = gtex_attr[gtex_attr[\"SMAFRZE\"] == \"RNASEQ\"][\"SAMPID\"].tolist()"
   ]
  },
  {
   "cell_type": "code",
   "execution_count": null,
   "metadata": {},
   "outputs": [],
   "source": [
    "# Choose a random sample of half the patients\n",
    "import random\n",
    "\n",
    "random.seed(42)\n",
    "patient_list = rna_seq_patients\n",
    "patient_list = random.sample(rna_seq_patients, int(len(rna_seq_patients) / 4))\n",
    "\n",
    "# Leaves a reserve list for validating with later.\n",
    "reserve_patients = [patient for patient in rna_seq_patients if patient not in patient_list]\n",
    "\n",
    "print(f'Total of {len(patient_list)} patients')\n",
    "print(f'Using {len(patient_list)} RNASEQ patients with a reserve of {len(reserve_patients)})')"
   ]
  },
  {
   "cell_type": "code",
   "execution_count": null,
   "metadata": {},
   "outputs": [],
   "source": [
    "logger.info(\"Starting g8 load\")\n",
    "_g8 = pandas.read_csv(\n",
    "        gtex_tpm_fn,\n",
    "        skiprows=2,  # First 2 rows are comments of file size - other func here to select genes\n",
    "        sep='\\t',\n",
    "        header=0,\n",
    "        usecols=[\"Description\"] + patient_list,  # Number of samples/patients limit\n",
    "    )\n",
    "logger.info(\"\\tfinished g8 load\")\n",
    "# g8 = _g8.drop('gene_id', axis=1)\n"
   ]
  },
  {
   "cell_type": "code",
   "execution_count": null,
   "metadata": {},
   "outputs": [],
   "source": [
    "g8 = _g8.set_index('Description')\n",
    "g8.rename(columns=rename_cols, inplace=True)\n",
    "#g8.head()\n",
    "dir(g8)"
   ]
  },
  {
   "cell_type": "code",
   "execution_count": null,
   "metadata": {},
   "outputs": [],
   "source": [
    "# Descriptions have duplicate genes like 'RGS5'\n",
    "_g8.drop_duplicates(subset=['Description'], keep=\"first\", inplace=True)\n",
    "\n",
    "g8 = _g8.set_index(\"Description\")\n",
    "g8t = g8.T\n",
    "pca3 = PCA(n_components=3)  # Alt opt PCA(0.99) - enough components for 99% of variance\n",
    "sparse_pca = sklearn.decomposition.SparsePCA(n_components=3)\n",
    "\n",
    "logger.info(\"starting sparse_pca\")\n",
    "sparse_comp = sparse_pca.fit_transform(g8t)\n",
    "logger.info(\"starting pca\")\n",
    "components3 = pca3.fit_transform(g8t)\n",
    "\n",
    "print(pandas.DataFrame(components3).head())\n",
    "pca3.explained_variance_ratio_"
   ]
  },
  {
   "cell_type": "code",
   "execution_count": null,
   "metadata": {},
   "outputs": [],
   "source": [
    "sparse_comp = pandas.DataFrame(sparse_pca.components_, columns=g8t.columns)\n",
    "# print(sparse_comp)\n",
    "pc1 = sparse_comp.loc[0]\n",
    "#pc1_genes = [g.index for g in pc1 if g != 0]\n",
    "print(pc1)\n",
    "pc1a = pc1.apply(abs)\n",
    "#print(pc1.sort_values.__doc__)\n",
    "pc1a.sort_values(ascending=False, inplace=True)\n",
    "print(pc1a)\n",
    "pc1_gene_list =[gene for gene in pc1a.index if pc1a.loc[gene] != 0]\n",
    "#print(pc1_gene_list)"
   ]
  },
  {
   "cell_type": "code",
   "execution_count": null,
   "metadata": {},
   "outputs": [],
   "source": [
    "pc1_gene_list"
   ]
  },
  {
   "cell_type": "code",
   "execution_count": null,
   "metadata": {},
   "outputs": [],
   "source": [
    "sig_genes = []\n",
    "for gene in pc1a.index:\n",
    "    if pc1a[gene] > 0:\n",
    "        sig_genes.append(gene)\n",
    "len(sig_genes)\n",
    "\n",
    "pprint(sig_genes[:50])"
   ]
  },
  {
   "cell_type": "code",
   "execution_count": null,
   "metadata": {},
   "outputs": [],
   "source": [
    "pheno_desc = pandas.read_excel(os.path.join(cache_dir, os.path.basename(GTEX_PHENO_DD)))\n",
    "pheno_desc"
   ]
  },
  {
   "cell_type": "code",
   "execution_count": null,
   "metadata": {},
   "outputs": [],
   "source": [
    "pheno = pandas.read_csv(os.path.join(cache_dir, os.path.basename(GTEX_PHENO_DS)), sep=\"\\t\")\n",
    "pheno.head()"
   ]
  },
  {
   "cell_type": "code",
   "execution_count": null,
   "metadata": {},
   "outputs": [],
   "source": [
    "gtex_attr[[\"SAMPID\", \"SMTS\", \"SMTSD\"]].head()"
   ]
  },
  {
   "cell_type": "code",
   "execution_count": null,
   "metadata": {},
   "outputs": [],
   "source": [
    "tissue = gtex_attr[[\"SAMPID\", \"SMTS\", \"SMTSD\"]].copy()\n",
    "tissue[\"SMTS\"] = tissue[\"SMTS\"].astype(\"category\")\n",
    "tissue[\"SMTSD\"] = tissue[\"SMTSD\"].astype(\"category\")"
   ]
  },
  {
   "cell_type": "code",
   "execution_count": null,
   "metadata": {},
   "outputs": [],
   "source": [
    "train_df = tissue.merge(g8t, left_on=\"SAMPID\", right_index=True)"
   ]
  },
  {
   "cell_type": "code",
   "execution_count": null,
   "metadata": {},
   "outputs": [],
   "source": [
    "from fastai.tabular.all import Categorify, FillMissing, TabularPandas, cont_cat_split"
   ]
  },
  {
   "cell_type": "code",
   "execution_count": null,
   "metadata": {},
   "outputs": [],
   "source": [
    "cont,cat = cont_cat_split(train_df, max_card=500, dep_var=[\"SMTS\", \"SMTSD\"])"
   ]
  },
  {
   "cell_type": "code",
   "execution_count": null,
   "metadata": {},
   "outputs": [],
   "source": [
    "cont,cat = cont_cat_split(train_df, max_card=500, dep_var=\"SMTSD\")"
   ]
  },
  {
   "cell_type": "code",
   "execution_count": null,
   "metadata": {},
   "outputs": [],
   "source": [
    "train_ob = TabularPandas(train_df, procs=[FillMissing, Categorify], cat_names=cat, cont_names=cont, y_names=\"SMTSD\")"
   ]
  },
  {
   "cell_type": "code",
   "execution_count": null,
   "metadata": {},
   "outputs": [],
   "source": [
    "dir()"
   ]
  },
  {
   "cell_type": "code",
   "execution_count": null,
   "metadata": {},
   "outputs": [],
   "source": [
    "sorted([(x, sys.getsizeof(globals().get(x))) for x in dir() if not x.startswith('_') and x not in sys.modules], key=lambda x: x[1], reverse=True)\n",
    "\n",
    "#%memit"
   ]
  },
  {
   "cell_type": "code",
   "execution_count": null,
   "metadata": {},
   "outputs": [],
   "source": [
    "%memit"
   ]
  }
 ],
 "metadata": {
  "kernelspec": {
   "display_name": "Python 3",
   "language": "python",
   "name": "python3"
  }
 },
 "nbformat": 4,
 "nbformat_minor": 2
}
