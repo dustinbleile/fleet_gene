{
 "cells": [
  {
   "cell_type": "markdown",
   "metadata": {},
   "source": [
    "# Gene Lists"
   ]
  },
  {
   "cell_type": "code",
   "execution_count": null,
   "metadata": {},
   "outputs": [],
   "source": [
    "# Genes of interest - some test genes \n",
    "TEST_GENES = [\n",
    "    'TP53',\n",
    "    'ERBB2',  # Herceptin target\n",
    "    'EGFR',\n",
    "    'AKT1',\n",
    "    'KRAS',\n",
    "    'PTEN',\n",
    "    'APOE',\n",
    "]\n",
    "\n",
    "TUMOUR_MUT_GENES = [  # www.tumourportal.org - highly mutated\n",
    "    'TP53',\n",
    "    'PIK3CA',\n",
    "    'PTEN',\n",
    "    'KRAS',\n",
    "    'APC',\n",
    "    'MLL3',  # aka KMT2C\n",
    "    'KMT2C',\n",
    "    'FAT1',\n",
    "    'MLL2',  # aka KMT2D\n",
    "    'KMT2D',\n",
    "    'ARID1A',\n",
    "    'VHL',\n",
    "    'PBRM1',\n",
    "    'NF1',\n",
    "    'EGFR',\n",
    "    'ATM',\n",
    "    'PIK3R1',\n",
    "    'BRAF',\n",
    "    'CDKN2A',\n",
    "    'SETD2',\n",
    "    'CREBBP',\n",
    "    'FBXW7',\n",
    "    'SPEN',\n",
    "    'MTOR',\n",
    "    'RB1',\n",
    "    'SMARCA4',\n",
    "    'NOTCH1',\n",
    "]"
   ]
  },
  {
   "cell_type": "code",
   "execution_count": null,
   "metadata": {},
   "outputs": [],
   "source": []
  }
 ],
 "metadata": {
  "kernelspec": {
   "display_name": "Python 3",
   "language": "python",
   "name": "python3"
  }
 },
 "nbformat": 4,
 "nbformat_minor": 4
}
