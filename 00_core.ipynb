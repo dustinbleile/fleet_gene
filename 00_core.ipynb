{
 "cells": [
  {
   "cell_type": "code",
   "execution_count": null,
   "metadata": {},
   "outputs": [],
   "source": [
    "# default_exp core"
   ]
  },
  {
   "cell_type": "markdown",
   "metadata": {},
   "source": [
    "# module name here\n",
    "\n",
    "> API details."
   ]
  },
  {
   "cell_type": "code",
   "execution_count": null,
   "metadata": {},
   "outputs": [],
   "source": [
    "#hide\n",
    "from nbdev.showdoc import *"
   ]
  },
  {
   "cell_type": "code",
   "execution_count": null,
   "metadata": {},
   "outputs": [],
   "source": [
    "#export\n",
    "def hello_world():\n",
    "    \"\"\"Simple hello world test\"\"\"\n",
    "    # \"only 'conda -c fastai' with all updates channel install worked.\n",
    "    # pip install gave errors during nbdev_build_docs\" - using ubuntu 20.04LTS on windows 10 wsl2.\n",
    "    print(f\"hello world test\")"
   ]
  },
  {
   "cell_type": "code",
   "execution_count": null,
   "metadata": {},
   "outputs": [
    {
     "ename": "ImportError",
     "evalue": "cannot import name 'untar_data' from 'fastai' (/home/dustin/miniconda3/envs/fastai/lib/python3.7/site-packages/fastai/__init__.py)",
     "output_type": "error",
     "traceback": [
      "\u001b[0;31m---------------------------------------------------------------------------\u001b[0m",
      "\u001b[0;31mImportError\u001b[0m                               Traceback (most recent call last)",
      "\u001b[0;32m<ipython-input-4-6a6ba7d7cbdb>\u001b[0m in \u001b[0;36m<module>\u001b[0;34m\u001b[0m\n\u001b[0;32m----> 1\u001b[0;31m \u001b[0;32mfrom\u001b[0m \u001b[0mfastai\u001b[0m \u001b[0;32mimport\u001b[0m \u001b[0muntar_data\u001b[0m\u001b[0;34m\u001b[0m\u001b[0;34m\u001b[0m\u001b[0m\n\u001b[0m",
      "\u001b[0;31mImportError\u001b[0m: cannot import name 'untar_data' from 'fastai' (/home/dustin/miniconda3/envs/fastai/lib/python3.7/site-packages/fastai/__init__.py)"
     ]
    }
   ],
   "source": [
    "\n"
   ]
  },
  {
   "cell_type": "code",
   "execution_count": null,
   "metadata": {},
   "outputs": [
    {
     "name": "stdout",
     "output_type": "stream",
     "text": [
      "testing /home/dustin/fleet_gene/00_core.ipynb\n",
      "Error in /home/dustin/fleet_gene/00_core.ipynb:\n",
      "preprocess() missing 1 required positional argument: 'resources'\n",
      "testing /home/dustin/fleet_gene/index.ipynb\n",
      "Error in /home/dustin/fleet_gene/index.ipynb:\n",
      "preprocess() missing 1 required positional argument: 'resources'\n",
      "Traceback (most recent call last):\n",
      "  File \"/home/dustin/miniconda3/envs/fastai/bin/nbdev_test_nbs\", line 10, in <module>\n",
      "    sys.exit(nbdev_test_nbs())\n",
      "  File \"/home/dustin/miniconda3/envs/fastai/lib/python3.7/site-packages/fastcore/script.py\", line 105, in _f\n",
      "    tfunc(**merge(args, args_from_prog(func, xtra)))\n",
      "  File \"/home/dustin/miniconda3/envs/fastai/lib/python3.7/site-packages/nbdev/test.py\", line 121, in nbdev_test_nbs\n",
      "    raise Exception(msg + '\\n'.join([f.name for p,f in zip(passed,files) if not p]))\n",
      "Exception: The following notebooks failed:\n",
      "00_core.ipynb\n",
      "index.ipynb\n"
     ]
    }
   ],
   "source": [
    "# final builds\n",
    "!nbdev_test_nbs"
   ]
  },
  {
   "cell_type": "code",
   "execution_count": null,
   "metadata": {},
   "outputs": [
    {
     "name": "stdout",
     "output_type": "stream",
     "text": [
      "Converted 00_core.ipynb.\n",
      "Converted index.ipynb.\n",
      "converting: /home/dustin/fleet_gene/00_core.ipynb\n",
      "converting: /home/dustin/fleet_gene/index.ipynb\n",
      "converting /home/dustin/fleet_gene/index.ipynb to README.md\n"
     ]
    }
   ],
   "source": [
    "!nbdev_build_lib\n",
    "!nbdev_build_docs"
   ]
  }
 ],
 "metadata": {
  "kernelspec": {
   "display_name": "Python 3",
   "language": "python",
   "name": "python3"
  }
 },
 "nbformat": 4,
 "nbformat_minor": 2
}
