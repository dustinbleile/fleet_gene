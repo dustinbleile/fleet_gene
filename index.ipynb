{
 "cells": [
  {
   "cell_type": "code",
   "execution_count": null,
   "metadata": {},
   "outputs": [
    {
     "name": "stdout",
     "output_type": "stream",
     "text": [
      "The autoreload extension is already loaded. To reload it, use:\n",
      "  %reload_ext autoreload\n"
     ]
    }
   ],
   "source": [
    "#hide\n",
    "# automatically reload dependencies\n",
    "%load_ext autoreload\n",
    "%autoreload 2"
   ]
  },
  {
   "cell_type": "code",
   "execution_count": null,
   "metadata": {},
   "outputs": [],
   "source": [
    "#hide\n",
    "from fleet_gene.core import *"
   ]
  },
  {
   "cell_type": "markdown",
   "metadata": {},
   "source": [
    "# fleet_gene\n",
    "\n",
    "This is a workbook based on fastai to classify gene expression data by tissue types.\n",
    "\n",
    "A random forest and a neural net classifiers will be built and used on a subset of the GTEX expression data set."
   ]
  },
  {
   "cell_type": "markdown",
   "metadata": {},
   "source": [
    "This file will become your README and also the index of your documentation."
   ]
  },
  {
   "cell_type": "markdown",
   "metadata": {},
   "source": [
    "## Install"
   ]
  },
  {
   "cell_type": "markdown",
   "metadata": {},
   "source": [
    "Usually best to install into a local virtual environment.\n",
    "\n",
    "`python -m venv .venv`\n",
    "\n",
    "Activate the virtual environment:\n",
    "\n",
    "`source .venv/bin/activate`\n",
    "\n",
    "Run the pip installs\n",
    "\n",
    "`pip install -U pip setuptools wheel; pip install -U -e. `\n",
    "\n",
    "\n",
    "Activate the notebooks with:\n",
    "\n",
    "`jupter notebook`"
   ]
  },
  {
   "cell_type": "markdown",
   "metadata": {},
   "source": [
    "## How to use"
   ]
  },
  {
   "cell_type": "markdown",
   "metadata": {},
   "source": [
    "See GTEX_tissue_classify_ai.ipynb"
   ]
  },
  {
   "cell_type": "code",
   "execution_count": null,
   "metadata": {},
   "outputs": [],
   "source": []
  }
 ],
 "metadata": {
  "kernelspec": {
   "display_name": "Python 3",
   "language": "python",
   "name": "python3"
  }
 },
 "nbformat": 4,
 "nbformat_minor": 2
}
