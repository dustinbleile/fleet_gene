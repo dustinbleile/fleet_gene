{
 "cells": [
  {
   "cell_type": "code",
   "execution_count": null,
   "metadata": {},
   "outputs": [],
   "source": [
    "import os\n",
    "import pandas as pd\n",
    "import numpy as np\n",
    "import pathlib\n",
    "\n",
    "from logzero import logger\n",
    "\n",
    "cache_dir = os.path.join(pathlib.Path().resolve(), \"data\")\n",
    "gtex_tpm_fn = os.path.join(cache_dir, \"GTEx_Analysis_2017-06-05_v8_RNASeQCv1.1.9_gene_tpm.gct.gz\")"
   ]
  },
  {
   "cell_type": "code",
   "execution_count": null,
   "metadata": {},
   "outputs": [
    {
     "name": "stderr",
     "output_type": "stream",
     "text": [
      "[I 210117 10:52:55 <ipython-input-5-092bdd27cb74>:1] Starting g8 load\n"
     ]
    }
   ],
   "source": [
    "logger.info(\"Starting g8 load\")\n",
    "_g8 = pd.read_csv(\n",
    "        gtex_tpm_fn,\n",
    "        skiprows=2,  # First 2 rows are comments of file size - other func here to select patient groups\n",
    "        sep='\\t',\n",
    "        header=0,\n",
    "        # usecols=sample_list,  # Number of samples limit\n",
    "    )\n",
    "logger.info(\"\\tfinished g8 load\")"
   ]
  },
  {
   "cell_type": "code",
   "execution_count": null,
   "metadata": {},
   "outputs": [],
   "source": [
    "from fastai.vision.all import *"
   ]
  },
  {
   "cell_type": "code",
   "execution_count": null,
   "metadata": {},
   "outputs": [],
   "source": [
    "Resize??"
   ]
  },
  {
   "cell_type": "code",
   "execution_count": null,
   "metadata": {},
   "outputs": [],
   "source": [
    "tdf = pd.read_csv(\"/home/dustin/dusti/Downloads/gdc_download_20210122_170215.611326.tar.gz\", compression='gzip', encoding='ISO-8859–1', sep='\\t', nrows=10)"
   ]
  },
  {
   "cell_type": "code",
   "execution_count": null,
   "metadata": {},
   "outputs": [
    {
     "data": {
      "text/html": [
       "<div>\n",
       "<style scoped>\n",
       "    .dataframe tbody tr th:only-of-type {\n",
       "        vertical-align: middle;\n",
       "    }\n",
       "\n",
       "    .dataframe tbody tr th {\n",
       "        vertical-align: top;\n",
       "    }\n",
       "\n",
       "    .dataframe thead th {\n",
       "        text-align: right;\n",
       "    }\n",
       "</style>\n",
       "<table border=\"1\" class=\"dataframe\">\n",
       "  <thead>\n",
       "    <tr style=\"text-align: right;\">\n",
       "      <th></th>\n",
       "      <th>MANIFEST.txt</th>\n",
       "      <th>filename</th>\n",
       "      <th>md5</th>\n",
       "      <th>size</th>\n",
       "      <th>state</th>\n",
       "    </tr>\n",
       "  </thead>\n",
       "  <tbody>\n",
       "    <tr>\n",
       "      <th>0</th>\n",
       "      <td>c9c145a7-76b4-443f-8571-c6002b477c73</td>\n",
       "      <td>c9c145a7-76b4-443f-8571-c6002b477c73/unc.edu_L...</td>\n",
       "      <td>c8c89a1bd7b51329161aba0ce5f53cb1</td>\n",
       "      <td>73447.0</td>\n",
       "      <td>validated</td>\n",
       "    </tr>\n",
       "    <tr>\n",
       "      <th>1</th>\n",
       "      <td>ðdÊ¥¥øÍ\u001fU\u001e",
       "áënµ.¿ásYÁP5\u0017_s9m\u0017Ëé²ùy¾jêi±...</td>\n",
       "      <td>NaN</td>\n",
       "      <td>NaN</td>\n",
       "      <td>NaN</td>\n",
       "      <td>NaN</td>\n",
       "    </tr>\n",
       "    <tr>\n",
       "      <th>2</th>\n",
       "      <td>P\u0002\u0014</td>\n",
       "      <td>NaN</td>\n",
       "      <td>NaN</td>\n",
       "      <td>NaN</td>\n",
       "      <td>NaN</td>\n",
       "    </tr>\n",
       "    <tr>\n",
       "      <th>3</th>\n",
       "      <td>P\u0002\u0014</td>\n",
       "      <td>NaN</td>\n",
       "      <td>NaN</td>\n",
       "      <td>NaN</td>\n",
       "      <td>NaN</td>\n",
       "    </tr>\n",
       "    <tr>\n",
       "      <th>4</th>\n",
       "      <td>P\u0002\u0014</td>\n",
       "      <td>NaN</td>\n",
       "      <td>NaN</td>\n",
       "      <td>NaN</td>\n",
       "      <td>NaN</td>\n",
       "    </tr>\n",
       "    <tr>\n",
       "      <th>5</th>\n",
       "      <td>P\u0002\u0014</td>\n",
       "      <td>NaN</td>\n",
       "      <td>NaN</td>\n",
       "      <td>NaN</td>\n",
       "      <td>NaN</td>\n",
       "    </tr>\n",
       "    <tr>\n",
       "      <th>6</th>\n",
       "      <td>P\u0002\u0014</td>\n",
       "      <td>NaN</td>\n",
       "      <td>NaN</td>\n",
       "      <td>NaN</td>\n",
       "      <td>NaN</td>\n",
       "    </tr>\n",
       "    <tr>\n",
       "      <th>7</th>\n",
       "      <td>P\u0002\u0014</td>\n",
       "      <td>NaN</td>\n",
       "      <td>NaN</td>\n",
       "      <td>NaN</td>\n",
       "      <td>NaN</td>\n",
       "    </tr>\n",
       "    <tr>\n",
       "      <th>8</th>\n",
       "      <td>P\u0002\u0014</td>\n",
       "      <td>NaN</td>\n",
       "      <td>NaN</td>\n",
       "      <td>NaN</td>\n",
       "      <td>NaN</td>\n",
       "    </tr>\n",
       "    <tr>\n",
       "      <th>9</th>\n",
       "      <td>P\u0002\u0014</td>\n",
       "      <td>NaN</td>\n",
       "      <td>NaN</td>\n",
       "      <td>NaN</td>\n",
       "      <td>NaN</td>\n",
       "    </tr>\n",
       "  </tbody>\n",
       "</table>\n",
       "</div>"
      ],
      "text/plain": [
       "                                        MANIFEST.txt  \\\n",
       "0               c9c145a7-76b4-443f-8571-c6002b477c73   \n",
       "1  ðdÊ¥¥øÍ\u001fU\n",
       "áënµ.¿ásYÁP5\u0017_s9m\u0017Ëé²ùy¾jêi±...   \n",
       "2                                              P\u0002\u0014    \n",
       "3                                              P\u0002\u0014    \n",
       "4                                              P\u0002\u0014    \n",
       "5                                              P\u0002\u0014    \n",
       "6                                              P\u0002\u0014    \n",
       "7                                              P\u0002\u0014    \n",
       "8                                              P\u0002\u0014    \n",
       "9                                              P\u0002\u0014    \n",
       "\n",
       "                                            filename  \\\n",
       "0  c9c145a7-76b4-443f-8571-c6002b477c73/unc.edu_L...   \n",
       "1                                                NaN   \n",
       "2                                                NaN   \n",
       "3                                                NaN   \n",
       "4                                                NaN   \n",
       "5                                                NaN   \n",
       "6                                                NaN   \n",
       "7                                                NaN   \n",
       "8                                                NaN   \n",
       "9                                                NaN   \n",
       "\n",
       "                                md5     size      state  \n",
       "0  c8c89a1bd7b51329161aba0ce5f53cb1  73447.0  validated  \n",
       "1                               NaN      NaN        NaN  \n",
       "2                               NaN      NaN        NaN  \n",
       "3                               NaN      NaN        NaN  \n",
       "4                               NaN      NaN        NaN  \n",
       "5                               NaN      NaN        NaN  \n",
       "6                               NaN      NaN        NaN  \n",
       "7                               NaN      NaN        NaN  \n",
       "8                               NaN      NaN        NaN  \n",
       "9                               NaN      NaN        NaN  "
      ]
     },
     "execution_count": null,
     "metadata": {},
     "output_type": "execute_result"
    }
   ],
   "source": [
    "tdf"
   ]
  }
 ],
 "metadata": {
  "kernelspec": {
   "display_name": "Python 3",
   "language": "python",
   "name": "python3"
  }
 },
 "nbformat": 4,
 "nbformat_minor": 4
}
